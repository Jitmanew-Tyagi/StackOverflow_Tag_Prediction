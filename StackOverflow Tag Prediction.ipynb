{
 "cells": [
  {
   "cell_type": "markdown",
   "metadata": {},
   "source": [
    "# <center> Stack Overflow Tag Prediction </center>\n"
   ]
  },
  {
   "cell_type": "markdown",
   "metadata": {},
   "source": [
    "<img src=\"image.jpeg\">\n",
    "\n",
    "## 1.Description:\n",
    "StackOverflow is a platform where programmers across the world ask their programming queries and other programmers help them to overcome it. To make this process fast we classify the problem into certain categories so that the programmers active in that categories can be shown the question for fast answer.\n",
    "\n",
    "## 2.Problem: \n",
    "The basic task is to predict the tags related to question for classification of the question in one or multiple classes.\n",
    "\n",
    "### 2.1Problem Source: https://www.kaggle.com/c/facebook-recruiting-iii-keyword-extraction\n",
    "\n",
    "### 2.2 Bird’s-eye view of the project:\n",
    "\n",
    "   ##### Part-1: Overview of multi-label classification.\n",
    "   ##### Part-2: Problem definition & evaluation metrics.\n",
    "   ##### Part-3: Exploratory data analysis (EDA).\n",
    "   ##### Part-4: Data pre-processing.\n",
    "   ##### Part-5: Multi-label classification techniques.\n"
   ]
  },
  {
   "cell_type": "markdown",
   "metadata": {},
   "source": [
    "### 2.2.Constraints and Previlages:\n",
    "1. Predicting as many tags as possible with high precision and recall.\n",
    "2. Wrong tags may result into bad user experience.\n",
    "3. No strict latency."
   ]
  },
  {
   "cell_type": "markdown",
   "metadata": {},
   "source": [
    "## 3. Data:\n",
    "Refer: https://www.kaggle.com/c/facebook-recruiting-iii-keyword-extraction/data\n",
    "\n",
    "### 3.1 Data Overview:\n",
    "Train.csv contains 4 columns: Id,Title,Body,Tags.\n",
    "\n",
    "Test.csv contains the same columns but without the Tags, which you are to predict.\n",
    "\n",
    "Size of Train.csv - 6.75GB\n",
    "\n",
    "Size of Test.csv - 2GB\n",
    "\n",
    "Number of rows in Train.csv = 6034195"
   ]
  },
  {
   "cell_type": "markdown",
   "metadata": {},
   "source": [
    "### 3.2 Data Fields:\n",
    "1. ID: Unique identity of each question asked.\n",
    "\n",
    "2. Title: The heading or the brief description of the problem\n",
    "\n",
    "3. Body: Body of the question.\n",
    "\n",
    "4. Tags: The tags associated with the question.\n",
    "\n",
    "### 3.3 Example Data Point\n",
    "\n",
    "Title:  Implementing Boundary Value Analysis of Software Testing in a C++ program?\n",
    "\n",
    "Body : \n",
    "\n",
    "\n",
    "        #include<iostream>\n",
    "        #include<stdlib.h>\\n\\n\n",
    "        using namespace std;\\n\\n\n",
    "        int main()\\n\n",
    "        {\\n\n",
    "                 int n,a[n],x,c,u[n],m[n],e[n][4];\\n         \n",
    "                 cout<<\"Enter the number of variables\";\\n         cin>>n;\\n\\n         \n",
    "                 cout<<\"Enter the Lower, and Upper Limits of the variables\";\\n         \n",
    "                 for(int y=1; y<n+1; y++)\\n         \n",
    "                 {\\n                 \n",
    "                    cin>>m[y];\\n                 \n",
    "                    cin>>u[y];\\n         \n",
    "                 }\\n         \n",
    "                 for(x=1; x<n+1; x++)\\n         \n",
    "                 {\\n                 \n",
    "                    a[x] = (m[x] + u[x])/2;\\n         \n",
    "                 }\\n         \n",
    "                 c=(n*4)-4;\\n         \n",
    "                 for(int a1=1; a1<n+1; a1++)\\n         \n",
    "                 {\\n\\n             \n",
    "                    e[a1][0] = m[a1];\\n             \n",
    "                    e[a1][1] = m[a1]+1;\\n             \n",
    "                    e[a1][2] = u[a1]-1;\\n             \n",
    "                    e[a1][3] = u[a1];\\n         \n",
    "                 }\\n         \n",
    "                 for(int i=1; i<n+1; i++)\\n         \n",
    "                 {\\n            \n",
    "                    for(int l=1; l<=i; l++)\\n            \n",
    "                    {\\n                 \n",
    "                        if(l!=1)\\n                 \n",
    "                        {\\n                    \n",
    "                            cout<<a[l]<<\"\\\\t\";\\n                 \n",
    "                        }\\n            \n",
    "                    }\\n            \n",
    "                    for(int j=0; j<4; j++)\\n            \n",
    "                    {\\n                \n",
    "                        cout<<e[i][j];\\n                \n",
    "                        for(int k=0; k<n-(i+1); k++)\\n                \n",
    "                        {\\n                    \n",
    "                            cout<<a[k]<<\"\\\\t\";\\n               \n",
    "                        }\\n                \n",
    "                        cout<<\"\\\\n\";\\n            \n",
    "                    }\\n        \n",
    "                 }    \\n\\n        \n",
    "                 system(\"PAUSE\");\\n        \n",
    "                 return 0;    \\n\n",
    "        }\\n\n",
    "        \n",
    "\n",
    "\\n\\n\n",
    "\n",
    "    <p>The answer should come in the form of a table like</p>\\n\\n\n",
    "    <pre><code>       \n",
    "    1            50              50\\n       \n",
    "    2            50              50\\n       \n",
    "    99           50              50\\n       \n",
    "    100          50              50\\n       \n",
    "    50           1               50\\n       \n",
    "    50           2               50\\n       \n",
    "    50           99              50\\n       \n",
    "    50           100             50\\n       \n",
    "    50           50              1\\n       \n",
    "    50           50              2\\n       \n",
    "    50           50              99\\n       \n",
    "    50           50              100\\n\n",
    "    </code></pre>\\n\\n\n",
    "    <p>if the no of inputs is 3 and their ranges are\\n\n",
    "    1,100\\n\n",
    "    1,100\\n\n",
    "    1,100\\n\n",
    "    (could be varied too)</p>\\n\\n\n",
    "    <p>The output is not coming,can anyone correct the code or tell me what\\'s wrong?</p>\\n'\n",
    "\n",
    "Tags : 'c++ c'\n",
    "\n"
   ]
  },
  {
   "cell_type": "markdown",
   "metadata": {},
   "source": [
    "## 4. Posing the problem as Machine Learning Problem:\n",
    "The problem can be stated as multi-label classification problem where tags are the classes. A question on StackOverflow can belong to more than one class simultaneously, or in other words can have more than on tag. For example a question may belong  to tags \"Machine Learning\",\"NLP\",\"KNN\".\n",
    "\n",
    "### 4.1 Useful links:\n",
    "https://towardsdatascience.com/journey-to-the-center-of-multi-label-classification-384c40229bff"
   ]
  },
  {
   "cell_type": "markdown",
   "metadata": {},
   "source": [
    "## 5. Exploratory Data Analysis"
   ]
  },
  {
   "cell_type": "markdown",
   "metadata": {},
   "source": [
    "### Importing the data"
   ]
  },
  {
   "cell_type": "code",
   "execution_count": null,
   "metadata": {},
   "outputs": [],
   "source": []
  }
 ],
 "metadata": {
  "kernelspec": {
   "display_name": "Python 3",
   "language": "python",
   "name": "python3"
  },
  "language_info": {
   "codemirror_mode": {
    "name": "ipython",
    "version": 3
   },
   "file_extension": ".py",
   "mimetype": "text/x-python",
   "name": "python",
   "nbconvert_exporter": "python",
   "pygments_lexer": "ipython3",
   "version": "3.7.1"
  }
 },
 "nbformat": 4,
 "nbformat_minor": 2
}
